{
 "cells": [
  {
   "cell_type": "code",
   "execution_count": 5,
   "id": "9869a561",
   "metadata": {},
   "outputs": [],
   "source": [
    "record = {1001:{\"Name\":\"5 Star\"        , \"Price\":10,  \"Quantity\":100},\n",
    "          1002:{\"Name\":\"Bar-One\"       , \"Price\":30,  \"Quantity\":50},\n",
    "          1003:{\"Name\":\"Candy\"         , \"Price\":3,   \"Quantity\":500},\n",
    "          1004:{\"Name\":\"Chocolate Cake\", \"Price\":300, \"Quantity\":15},\n",
    "          1005:{\"Name\":\"Blueberry Cake\", \"Price\":350, \"Quantity\":5}}"
   ]
  },
  {
   "cell_type": "code",
   "execution_count": 6,
   "id": "df53d804",
   "metadata": {},
   "outputs": [
    {
     "data": {
      "text/plain": [
       "{1001: {'Name': '5 Star'},\n",
       " 1002: {'Name': 'Bar-One'},\n",
       " 1003: {'Name': 'Candy'},\n",
       " 1004: {'Name': 'Chocolate Cake'},\n",
       " 1005: {'Name': 'Blueberry Cake'}}"
      ]
     },
     "execution_count": 6,
     "metadata": {},
     "output_type": "execute_result"
    }
   ],
   "source": [
    "record"
   ]
  },
  {
   "cell_type": "code",
   "execution_count": 7,
   "id": "007335bb",
   "metadata": {},
   "outputs": [
    {
     "data": {
      "text/plain": [
       "'Bar-One'"
      ]
     },
     "execution_count": 7,
     "metadata": {},
     "output_type": "execute_result"
    }
   ],
   "source": [
    "record[1002][\"Name\"]"
   ]
  },
  {
   "cell_type": "code",
   "execution_count": 8,
   "id": "e18eb856",
   "metadata": {},
   "outputs": [
    {
     "data": {
      "text/plain": [
       "{'Name': 'Candy'}"
      ]
     },
     "execution_count": 8,
     "metadata": {},
     "output_type": "execute_result"
    }
   ],
   "source": [
    "record[1003]"
   ]
  },
  {
   "cell_type": "code",
   "execution_count": 9,
   "id": "a13cfefa",
   "metadata": {},
   "outputs": [],
   "source": [
    "record = {1001:{\"Name\":\"5 Star\"        , \"Price\":10,  \"Quantity\":100},\n",
    "          1002:{\"Name\":\"Bar-One\"       , \"Price\":30,  \"Quantity\":50},\n",
    "          1003:{\"Name\":\"Candy\"         , \"Price\":3,   \"Quantity\":500},\n",
    "          1004:{\"Name\":\"Chocolate Cake\", \"Price\":300, \"Quantity\":15},\n",
    "          1005:{\"Name\":\"Blueberry Cake\", \"Price\":350, \"Quantity\":5}}"
   ]
  },
  {
   "cell_type": "code",
   "execution_count": 10,
   "id": "40a63b98",
   "metadata": {},
   "outputs": [
    {
     "data": {
      "text/plain": [
       "{'Name': 'Candy', 'Price': 3, 'Quantity': 500}"
      ]
     },
     "execution_count": 10,
     "metadata": {},
     "output_type": "execute_result"
    }
   ],
   "source": [
    "record[1003]"
   ]
  },
  {
   "cell_type": "code",
   "execution_count": 3,
   "id": "f0e3cfe9",
   "metadata": {},
   "outputs": [
    {
     "name": "stdout",
     "output_type": "stream",
     "text": [
      "--------------Menu----------------\n",
      "\n"
     ]
    },
    {
     "ename": "NameError",
     "evalue": "name 'record' is not defined",
     "output_type": "error",
     "traceback": [
      "\u001b[0;31m---------------------------------------------------------------------------\u001b[0m",
      "\u001b[0;31mNameError\u001b[0m                                 Traceback (most recent call last)",
      "Cell \u001b[0;32mIn[3], line 2\u001b[0m\n\u001b[1;32m      1\u001b[0m \u001b[38;5;28mprint\u001b[39m(\u001b[38;5;124m\"\u001b[39m\u001b[38;5;124m--------------Menu----------------\u001b[39m\u001b[38;5;130;01m\\n\u001b[39;00m\u001b[38;5;124m\"\u001b[39m)\n\u001b[0;32m----> 2\u001b[0m \u001b[38;5;28;01mfor\u001b[39;00m keys \u001b[38;5;129;01min\u001b[39;00m \u001b[43mrecord\u001b[49m\u001b[38;5;241m.\u001b[39mkeys(): \u001b[38;5;66;03m#.keys() is a method used to acess the keys of the dict\u001b[39;00m\n\u001b[1;32m      3\u001b[0m     \u001b[38;5;28mprint\u001b[39m(keys,\u001b[38;5;124m\"\u001b[39m\u001b[38;5;124m:\u001b[39m\u001b[38;5;124m\"\u001b[39m, record[keys][\u001b[38;5;124m\"\u001b[39m\u001b[38;5;124mName\u001b[39m\u001b[38;5;124m\"\u001b[39m],\u001b[38;5;124m\"\u001b[39m\u001b[38;5;124m|\u001b[39m\u001b[38;5;124m\"\u001b[39m, record[keys][\u001b[38;5;124m\"\u001b[39m\u001b[38;5;124mPrice\u001b[39m\u001b[38;5;124m\"\u001b[39m],\u001b[38;5;124m\"\u001b[39m\u001b[38;5;124m|\u001b[39m\u001b[38;5;124m\"\u001b[39m, record[keys][\u001b[38;5;124m\"\u001b[39m\u001b[38;5;124mQuantity\u001b[39m\u001b[38;5;124m\"\u001b[39m])\n\u001b[1;32m      4\u001b[0m \u001b[38;5;28mprint\u001b[39m(\u001b[38;5;124m\"\u001b[39m\u001b[38;5;124m----------------------------------\u001b[39m\u001b[38;5;130;01m\\n\u001b[39;00m\u001b[38;5;124m\"\u001b[39m) \n",
      "\u001b[0;31mNameError\u001b[0m: name 'record' is not defined"
     ]
    }
   ],
   "source": [
    "print(\"--------------Menu----------------\\n\")\n",
    "for keys in record.keys(): #.keys() is a method used to acess the keys of the dict\n",
    "    print(keys,\":\", record[keys][\"Name\"],\"|\", record[keys][\"Price\"],\"|\", record[keys][\"Quantity\"])\n",
    "print(\"----------------------------------\\n\") \n",
    "\n",
    "ui_pr = int(input(\"Entre the product ID: \"))\n",
    "ui_quan = int(input(\"Entre the Quantity: \"))\n",
    "print(\"----------------------------------\\n\")\n",
    "\n",
    "print(record[ui_pr][\"Name\"])\n",
    "print(record[ui_pr][\"Price\"])\n",
    "print(ui_quan)\n",
    "\n",
    "print(\"----------------------------------\")\n",
    "\n",
    "print(\"Billing amount :\",record[ui_pr][\"Price\"] * ui_quan)\n"
   ]
  },
  {
   "cell_type": "code",
   "execution_count": null,
   "id": "741e4f8f",
   "metadata": {},
   "outputs": [],
   "source": []
  }
 ],
 "metadata": {
  "kernelspec": {
   "display_name": "Python 3 (ipykernel)",
   "language": "python",
   "name": "python3"
  },
  "language_info": {
   "codemirror_mode": {
    "name": "ipython",
    "version": 3
   },
   "file_extension": ".py",
   "mimetype": "text/x-python",
   "name": "python",
   "nbconvert_exporter": "python",
   "pygments_lexer": "ipython3",
   "version": "3.10.9"
  }
 },
 "nbformat": 4,
 "nbformat_minor": 5
}
