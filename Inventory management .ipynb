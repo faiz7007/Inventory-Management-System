{
 "cells": [
  {
   "cell_type": "markdown",
   "id": "686dcde8",
   "metadata": {},
   "source": [
    "## Product Details\n",
    "1.Product ID\n",
    "2.Name of the product\n",
    "3.Price of product\n",
    "4.Quantity"
   ]
  },
  {
   "cell_type": "code",
   "execution_count": 12,
   "id": "54252eda",
   "metadata": {},
   "outputs": [
    {
     "data": {
      "text/plain": [
       "'1,5-star,5,100\\n2,Milky Bar,5,100\\n3,Cake,300,5\\n4,Candy,1,200'"
      ]
     },
     "execution_count": 12,
     "metadata": {},
     "output_type": "execute_result"
    }
   ],
   "source": [
    "fd = open(\"Inventory.txt\", \"r\")\n",
    "products= fd.read().split(\"\\n\")\n",
    "fd.close()\n"
   ]
  },
  {
   "cell_type": "code",
   "execution_count": 17,
   "id": "f711049c",
   "metadata": {},
   "outputs": [
    {
     "ename": "NameError",
     "evalue": "name 'products' is not defined",
     "output_type": "error",
     "traceback": [
      "\u001b[0;31m---------------------------------------------------------------------------\u001b[0m",
      "\u001b[0;31mNameError\u001b[0m                                 Traceback (most recent call last)",
      "Cell \u001b[0;32mIn[17], line 1\u001b[0m\n\u001b[0;32m----> 1\u001b[0m \u001b[43mproducts\u001b[49m\n",
      "\u001b[0;31mNameError\u001b[0m: name 'products' is not defined"
     ]
    }
   ],
   "source": [
    "products"
   ]
  },
  {
   "cell_type": "code",
   "execution_count": 18,
   "id": "cfd9b9a9",
   "metadata": {},
   "outputs": [],
   "source": [
    "fd = open(\"Inventory.txt\", \"r\")\n",
    "products= fd.read().split(\"\\n\")\n",
    "fd.close()\n"
   ]
  },
  {
   "cell_type": "code",
   "execution_count": 19,
   "id": "7e481de8",
   "metadata": {},
   "outputs": [
    {
     "data": {
      "text/plain": [
       "['1,5-star,5,100', '2,Milky Bar,5,100', '3,Cake,300,5', '4,Candy,1,200']"
      ]
     },
     "execution_count": 19,
     "metadata": {},
     "output_type": "execute_result"
    }
   ],
   "source": [
    "products"
   ]
  },
  {
   "cell_type": "code",
   "execution_count": null,
   "id": "9079b3d4",
   "metadata": {},
   "outputs": [],
   "source": [
    "fd = open(\"Inventory.txt\", \"r\")\n",
    "products= fd.read().split(\"\\n\")\n",
    "fd.close()"
   ]
  },
  {
   "cell_type": "code",
   "execution_count": 2,
   "id": "ecb99012",
   "metadata": {},
   "outputs": [
    {
     "name": "stdout",
     "output_type": "stream",
     "text": [
      "Enter any product id: 1\n",
      "Enter any product quan: 2\n"
     ]
    },
    {
     "ename": "NameError",
     "evalue": "name 'products' is not defined",
     "output_type": "error",
     "traceback": [
      "\u001b[0;31m---------------------------------------------------------------------------\u001b[0m",
      "\u001b[0;31mNameError\u001b[0m                                 Traceback (most recent call last)",
      "Cell \u001b[0;32mIn[2], line 3\u001b[0m\n\u001b[1;32m      1\u001b[0m user_prod_id \u001b[38;5;241m=\u001b[39m \u001b[38;5;28minput\u001b[39m(\u001b[38;5;124m\"\u001b[39m\u001b[38;5;124mEnter any product id: \u001b[39m\u001b[38;5;124m\"\u001b[39m)\n\u001b[1;32m      2\u001b[0m user_prod_quan \u001b[38;5;241m=\u001b[39m \u001b[38;5;28minput\u001b[39m(\u001b[38;5;124m\"\u001b[39m\u001b[38;5;124mEnter any product quan: \u001b[39m\u001b[38;5;124m\"\u001b[39m)\n\u001b[0;32m----> 3\u001b[0m \u001b[38;5;28;01mfor\u001b[39;00m product \u001b[38;5;129;01min\u001b[39;00m \u001b[43mproducts\u001b[49m:\n\u001b[1;32m      4\u001b[0m     pro_details \u001b[38;5;241m=\u001b[39m product\u001b[38;5;241m.\u001b[39msplit(\u001b[38;5;124m\"\u001b[39m\u001b[38;5;124m,\u001b[39m\u001b[38;5;124m\"\u001b[39m)\n\u001b[1;32m      5\u001b[0m     \u001b[38;5;28;01mif\u001b[39;00m (pro_details[\u001b[38;5;241m0\u001b[39m] \u001b[38;5;241m==\u001b[39m user_prod_id):\n",
      "\u001b[0;31mNameError\u001b[0m: name 'products' is not defined"
     ]
    }
   ],
   "source": [
    "user_prod_id = input(\"Enter any product id: \")\n",
    "user_prod_quan = input(\"Enter any product quan: \")\n",
    "for product in products:\n",
    "    pro_details = product.split(\",\")\n",
    "    if (pro_details[0] == user_prod_id):\n",
    "        print(\"---------------------------------------\")\n",
    "        print(\"Name of the product: \", pro_details[1])\n",
    "        print(\"Price              : \", pro_details[2])\n",
    "        print(\"Quantity of product: \", user_prod_quan)\n",
    "        print(\"----------------------------------------\")\n",
    "        print(\"Billing amount     : \", int(user_prod_quan )* int(pro_details[2]))\n",
    "        print(\"----------------------------------------\")\n",
    "        "
   ]
  },
  {
   "cell_type": "code",
   "execution_count": 3,
   "id": "5091e05d",
   "metadata": {},
   "outputs": [],
   "source": [
    "fd = open(\"Inventory.txt\", \"r\")\n",
    "products= fd.read().split(\"\\n\")\n",
    "fd.close()"
   ]
  },
  {
   "cell_type": "code",
   "execution_count": 4,
   "id": "72bb6f69",
   "metadata": {},
   "outputs": [
    {
     "data": {
      "text/plain": [
       "['1,5-star,5,100', '2,Milky Bar,5,100', '3,Cake,300,5', '4,Candy,1,200']"
      ]
     },
     "execution_count": 4,
     "metadata": {},
     "output_type": "execute_result"
    }
   ],
   "source": [
    "products\n"
   ]
  },
  {
   "cell_type": "code",
   "execution_count": null,
   "id": "25bec205",
   "metadata": {},
   "outputs": [],
   "source": [
    "#noting the time of transaction\n",
    "import time\n",
    "# Here we are taking the input from the user\n",
    "user_name = input(\"Entre your name: \")\n",
    "user_number = input(\"Entre your number: \")\n",
    "user_mail = input(\"Entre your mail: \")\n",
    "user_prod_id = input(\"Enter any product id: \")\n",
    "user_prod_quan = input(\"Enter any product quan: \")\n",
    "\n",
    "updated_prod_list = []\n",
    "# Going through each and every product\n",
    "for product in products:\n",
    "    pro_details = product.split(\",\")\n",
    "    \n",
    "    #Checking that our product id and user product id matches or not \n",
    "    if (pro_details[0] == user_prod_id):\n",
    "        \n",
    "        #Checking if user entre quantity is less than our quantity or not \n",
    "        if (int(user_prod_quan) <= int(pro_details[3])):\n",
    "            # here we are selling the product to the user\n",
    "            print(\"---------------------------------------\")\n",
    "            print(\"Name of the product: \", pro_details[1])\n",
    "            print(\"Price              : \", pro_details[2])\n",
    "            print(\"Quantity of product: \", user_prod_quan)\n",
    "            print(\"---------------------------------------\")\n",
    "            print(\"Billing amount     : \", int(user_prod_quan )* int(pro_details[2]))\n",
    "            print(\"---------------------------------------\")\n",
    "            \n",
    "            # and we are updating our inventory\n",
    "            pro_details[3] = str(int(pro_details[3]) - int(user_prod_quan)) #as list are mutable\n",
    "            \n",
    "            # Generating the sales in sales.txt\n",
    "            fw = open(\"Sales.txt\", \"a\")\n",
    "            sales_details = user_name +\",\"+ user_number +\",\"+ user_mail +\",\"+ pro_details[1] +\",\"+ user_prod_id +\",\"+ user_prod_quan +\",\"+ str(int(user_prod_quan )* int(pro_details[2])) +\",\"+ time.ctime() +\"\\n\" \n",
    "            fw.write(sales_details)\n",
    "            fw.close()\n",
    "            \n",
    "        else:\n",
    "            # if user enters. the quantity more than the current stock\n",
    "            print(f\"{user_prod_quan} quantity for  {pro_details[1]} is not available\")\n",
    "            print(f\"We only have {pro_details[3]} quantity\")\n",
    "            print(\"Would you like to purchase it ?\")\n",
    "            \n",
    "            ch = input(\"Press y/n: \") # check if hw agrees with the ramaining stock quantity\n",
    "            \n",
    "            if (ch in \"Yy\"):\n",
    "                print(\"---------------------------------------\")\n",
    "                print(\"Name of the product: \", pro_details[1])\n",
    "                print(\"Price              : \", pro_details[2])\n",
    "                print(\"Quantity of product: \", pro_details[3])\n",
    "                print(\"---------------------------------------\")\n",
    "                print(\"Billing amount     : \", int(pro_details[3])* int(pro_details[2]))\n",
    "                print(\"---------------------------------------\")\n",
    "                \n",
    "                \n",
    "                # Generating the sales in sales.txt\n",
    "                fw = open(\"Sales.txt\", \"a\")\n",
    "                sales_details = user_name +\",\"+ user_number +\",\"+ user_mail +\",\"+ pro_details[1] +\",\"+ user_prod_id +\",\"+ pro_details[3] +\",\"+ str(int(pro_details[3]) * int(pro_details[2])) +\",\"+ time.ctime() +\"\\n\" \n",
    "                fw.write(sales_details)\n",
    "                fw.close()\n",
    "                \n",
    "                # updating the inventory\n",
    "                pro_details[3] = \"0\"\n",
    "\n",
    "            else:\n",
    "                if ch in \"Nn\":\n",
    "                    print(\"Thank You visit again !!\")\n",
    "        \n",
    "    updated_prod_list.append(pro_details)\n",
    "    \n",
    "# here we are updating the inventory file    \n",
    "fw = open('Inventory.txt', \"w\")\n",
    "\n",
    "for i in updated_prod_list:\n",
    "    prod = \",\".join(i) + \"\\n\"\n",
    "    fw.write(prod)\n",
    "    \n",
    "fw.close() \n",
    "print(\"---------------------\")\n",
    "print(\"Inventory updating\")\n"
   ]
  }
 ],
 "metadata": {
  "kernelspec": {
   "display_name": "Python 3 (ipykernel)",
   "language": "python",
   "name": "python3"
  },
  "language_info": {
   "codemirror_mode": {
    "name": "ipython",
    "version": 3
   },
   "file_extension": ".py",
   "mimetype": "text/x-python",
   "name": "python",
   "nbconvert_exporter": "python",
   "pygments_lexer": "ipython3",
   "version": "3.10.9"
  }
 },
 "nbformat": 4,
 "nbformat_minor": 5
}
