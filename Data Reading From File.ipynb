{
 "cells": [
  {
   "cell_type": "code",
   "execution_count": 1,
   "id": "1e95eecd",
   "metadata": {},
   "outputs": [
    {
     "name": "stdout",
     "output_type": "stream",
     "text": [
      "Hello Good Morning Faiz 7007\n"
     ]
    }
   ],
   "source": [
    "fd = open('Data.txt', 'r')\n",
    "txt= fd.read()\n",
    "\n",
    "fd.close()"
   ]
  },
  {
   "cell_type": "code",
   "execution_count": 2,
   "id": "d386c354",
   "metadata": {},
   "outputs": [
    {
     "data": {
      "text/plain": [
       "'Hello Good Morning Faiz 7007'"
      ]
     },
     "execution_count": 2,
     "metadata": {},
     "output_type": "execute_result"
    }
   ],
   "source": [
    "txt\n"
   ]
  },
  {
   "cell_type": "code",
   "execution_count": 3,
   "id": "d58e4ac8",
   "metadata": {},
   "outputs": [
    {
     "data": {
      "text/plain": [
       "'Hello Good Morning Faiz 7007'"
      ]
     },
     "execution_count": 3,
     "metadata": {},
     "output_type": "execute_result"
    }
   ],
   "source": [
    "txt\n"
   ]
  },
  {
   "cell_type": "code",
   "execution_count": 4,
   "id": "7bd9b263",
   "metadata": {},
   "outputs": [
    {
     "name": "stdout",
     "output_type": "stream",
     "text": [
      "Coronavirus disease 2019 (COVID-19) is a contagious disease caused by a virus, the severe acute respiratory syndrome coronavirus 2 (SARS-CoV-2). The first known case was identified in Wuhan, China, in December 2019.[5] The disease quickly spread worldwide, resulting in the COVID-19 pandemic.\n",
      "\n",
      "The symptoms of COVID‑19 are variable but often include fever,[6] cough, headache,[7] fatigue, breathing difficulties, loss of smell, and loss of taste.[8][9][10] Symptoms may begin one to fourteen days after exposure to the virus. At least a third of people who are infected do not develop noticeable symptoms.[11] Of those who develop symptoms noticeable enough to be classified as patients, most (81%) develop mild to moderate symptoms (up to mild pneumonia), while 14% develop severe symptoms (dyspnea, hypoxia, or more than 50% lung involvement on imaging), and 5% develop critical symptoms (respiratory failure, shock, or multiorgan dysfunction).[12] Older people are at a higher risk of developing severe symptoms. Some people continue to experience a range of effects (long COVID) for months after recovery, and damage to organs has been observed.[13] Multi-year studies are underway to further investigate the long-term effects of the disease.[13]\n"
     ]
    }
   ],
   "source": [
    "fd = open('Data.txt', 'r')\n",
    "txt= fd.read()\n",
    "print(txt)\n",
    "fd.close()  "
   ]
  },
  {
   "cell_type": "code",
   "execution_count": 24,
   "id": "3f41897e",
   "metadata": {},
   "outputs": [
    {
     "name": "stdout",
     "output_type": "stream",
     "text": [
      "[ 5 ]\n",
      "[ 6 ]\n",
      "[ 7 ]\n",
      "[ 8 ]\n",
      "[ 9 ]\n",
      "[ 10 ]\n",
      "[ 11 ]\n",
      "[ 12 ]\n",
      "[ 13 ]\n"
     ]
    }
   ],
   "source": [
    "for i in range(5, 14):\n",
    "    print(\"[\",str(i),\"]\")"
   ]
  },
  {
   "cell_type": "code",
   "execution_count": null,
   "id": "9e770bd0",
   "metadata": {},
   "outputs": [],
   "source": []
  },
  {
   "cell_type": "code",
   "execution_count": 25,
   "id": "7d09666b",
   "metadata": {},
   "outputs": [
    {
     "name": "stdout",
     "output_type": "stream",
     "text": [
      "[ 5 ]\n",
      "[ 6 ]\n",
      "[ 7 ]\n",
      "[ 8 ]\n",
      "[ 9 ]\n",
      "[ 10 ]\n",
      "[ 11 ]\n",
      "[ 12 ]\n",
      "[ 13 ]\n"
     ]
    }
   ],
   "source": [
    "for i in range(5, 14):\n",
    "    print(\"[\",+ str(i) +,\"]\")"
   ]
  },
  {
   "cell_type": "code",
   "execution_count": 26,
   "id": "0e91b9c7",
   "metadata": {},
   "outputs": [
    {
     "ename": "SyntaxError",
     "evalue": "invalid syntax (3343281963.py, line 2)",
     "output_type": "error",
     "traceback": [
      "\u001b[0;36m  Cell \u001b[0;32mIn[26], line 2\u001b[0;36m\u001b[0m\n\u001b[0;31m    print(\"[\",+ str(i) +,\"]\")\u001b[0m\n\u001b[0m                        ^\u001b[0m\n\u001b[0;31mSyntaxError\u001b[0m\u001b[0;31m:\u001b[0m invalid syntax\n"
     ]
    }
   ],
   "source": [
    "for i in range(5, 14):\n",
    "    print(\"[\",+ str(i) +,\"]\")"
   ]
  },
  {
   "cell_type": "code",
   "execution_count": 28,
   "id": "a667f68b",
   "metadata": {},
   "outputs": [
    {
     "name": "stdout",
     "output_type": "stream",
     "text": [
      "[5]\n",
      "[6]\n",
      "[7]\n",
      "[8]\n",
      "[9]\n",
      "[10]\n",
      "[11]\n",
      "[12]\n",
      "[13]\n"
     ]
    }
   ],
   "source": [
    "for i in range(5, 14):\n",
    "    pattern = \"[\"+str(i)+\"]\"\n",
    "    print(pattern)"
   ]
  },
  {
   "cell_type": "code",
   "execution_count": 29,
   "id": "d54d2535",
   "metadata": {},
   "outputs": [],
   "source": [
    "txt = txt.replace(pattern, \" \")"
   ]
  },
  {
   "cell_type": "code",
   "execution_count": 30,
   "id": "79c8f060",
   "metadata": {},
   "outputs": [
    {
     "ename": "SyntaxError",
     "evalue": "invalid syntax (52689339.py, line 3)",
     "output_type": "error",
     "traceback": [
      "\u001b[0;36m  Cell \u001b[0;32mIn[30], line 3\u001b[0;36m\u001b[0m\n\u001b[0;31m    txt = txt.replace.(pattern, \" \")\u001b[0m\n\u001b[0m                      ^\u001b[0m\n\u001b[0;31mSyntaxError\u001b[0m\u001b[0;31m:\u001b[0m invalid syntax\n"
     ]
    }
   ],
   "source": [
    "for i in range(5, 14):\n",
    "    pattern = \"[\"+str(i)+\"]\"\n",
    "    txt = txt.replace.(pattern, \" \")\n",
    "    txt"
   ]
  },
  {
   "cell_type": "code",
   "execution_count": 31,
   "id": "623fa47e",
   "metadata": {},
   "outputs": [],
   "source": [
    "for i in range(5, 14):\n",
    "    pattern = \"[\"+str(i)+\"]\"\n",
    "    txt = txt.replace(pattern, \" \")\n",
    "    "
   ]
  },
  {
   "cell_type": "code",
   "execution_count": 32,
   "id": "db453adb",
   "metadata": {},
   "outputs": [
    {
     "data": {
      "text/plain": [
       "'Coronavirus disease 2019 (COVID-19) is a contagious disease caused by a virus, the severe acute respiratory syndrome coronavirus 2 (SARS-CoV-2). The first known case was identified in Wuhan, China, in December 2019.  The disease quickly spread worldwide, resulting in the COVID-19 pandemic.\\n\\nThe symptoms of COVID‑19 are variable but often include fever,  cough, headache,  fatigue, breathing difficulties, loss of smell, and loss of taste.    Symptoms may begin one to fourteen days after exposure to the virus. At least a third of people who are infected do not develop noticeable symptoms.  Of those who develop symptoms noticeable enough to be classified as patients, most (81%) develop mild to moderate symptoms (up to mild pneumonia), while 14% develop severe symptoms (dyspnea, hypoxia, or more than 50% lung involvement on imaging), and 5% develop critical symptoms (respiratory failure, shock, or multiorgan dysfunction).  Older people are at a higher risk of developing severe symptoms. Some people continue to experience a range of effects (long COVID) for months after recovery, and damage to organs has been observed.  Multi-year studies are underway to further investigate the long-term effects of the disease. '"
      ]
     },
     "execution_count": 32,
     "metadata": {},
     "output_type": "execute_result"
    }
   ],
   "source": [
    "txt\n"
   ]
  },
  {
   "cell_type": "code",
   "execution_count": 33,
   "id": "80c186ba",
   "metadata": {},
   "outputs": [],
   "source": [
    "for i in \"!@#$%^&*\":\n",
    "    txt = txt.replace(i, \" \")\n",
    "    txt"
   ]
  },
  {
   "cell_type": "code",
   "execution_count": 34,
   "id": "2bb97b54",
   "metadata": {},
   "outputs": [
    {
     "data": {
      "text/plain": [
       "'Coronavirus disease 2019 (COVID-19) is a contagious disease caused by a virus, the severe acute respiratory syndrome coronavirus 2 (SARS-CoV-2). The first known case was identified in Wuhan, China, in December 2019.  The disease quickly spread worldwide, resulting in the COVID-19 pandemic.\\n\\nThe symptoms of COVID‑19 are variable but often include fever,  cough, headache,  fatigue, breathing difficulties, loss of smell, and loss of taste.    Symptoms may begin one to fourteen days after exposure to the virus. At least a third of people who are infected do not develop noticeable symptoms.  Of those who develop symptoms noticeable enough to be classified as patients, most (81 ) develop mild to moderate symptoms (up to mild pneumonia), while 14  develop severe symptoms (dyspnea, hypoxia, or more than 50  lung involvement on imaging), and 5  develop critical symptoms (respiratory failure, shock, or multiorgan dysfunction).  Older people are at a higher risk of developing severe symptoms. Some people continue to experience a range of effects (long COVID) for months after recovery, and damage to organs has been observed.  Multi-year studies are underway to further investigate the long-term effects of the disease. '"
      ]
     },
     "execution_count": 34,
     "metadata": {},
     "output_type": "execute_result"
    }
   ],
   "source": [
    "txt"
   ]
  },
  {
   "cell_type": "code",
   "execution_count": null,
   "id": "1e52d6a4",
   "metadata": {},
   "outputs": [],
   "source": []
  }
 ],
 "metadata": {
  "kernelspec": {
   "display_name": "Python 3 (ipykernel)",
   "language": "python",
   "name": "python3"
  },
  "language_info": {
   "codemirror_mode": {
    "name": "ipython",
    "version": 3
   },
   "file_extension": ".py",
   "mimetype": "text/x-python",
   "name": "python",
   "nbconvert_exporter": "python",
   "pygments_lexer": "ipython3",
   "version": "3.10.9"
  }
 },
 "nbformat": 4,
 "nbformat_minor": 5
}
